{
 "cells": [
  {
   "cell_type": "code",
   "execution_count": 1,
   "id": "87765d49",
   "metadata": {},
   "outputs": [
    {
     "name": "stdout",
     "output_type": "stream",
     "text": [
      "Connected to database\n"
     ]
    }
   ],
   "source": [
    "## Import libraries\n",
    "import numpy as np\n",
    "import pandas as pd\n",
    "import psycopg2\n",
    "import os\n",
    "\n",
    "## Import database configuration module\n",
    "import databaseConfig as creds\n",
    "\n",
    "## Database configuration\n",
    "host = creds.host\n",
    "databaseName = creds.databaseName\n",
    "user = creds.user\n",
    "password = creds.password\n",
    "    \n",
    "## Database details\n",
    "connectionString = \"host=%s dbname=%s user=%s password=%s\" % (host, databaseName, user, password)\n",
    "\n",
    "## Establish connection\n",
    "rdsConnection = psycopg2.connect(connectionString)\n",
    "\n",
    "## Opens the connection\n",
    "cursor = rdsConnection.cursor()\n",
    "print('Connected to database')"
   ]
  },
  {
   "cell_type": "markdown",
   "id": "92cd5fab",
   "metadata": {},
   "source": [
    "### 1. The cursor class \n",
    "\n",
    "#### 1-1. execute"
   ]
  },
  {
   "cell_type": "code",
   "execution_count": 2,
   "id": "058ddc05",
   "metadata": {},
   "outputs": [],
   "source": [
    "## Execute a database operation (query or command)\n",
    "cursor.execute(\"SELECT * FROM employee_demographics;\")"
   ]
  },
  {
   "cell_type": "markdown",
   "id": "dc7a37b8",
   "metadata": {},
   "source": [
    "#### 1-2. fetchall( )"
   ]
  },
  {
   "cell_type": "code",
   "execution_count": 3,
   "id": "fd2f1786",
   "metadata": {},
   "outputs": [
    {
     "data": {
      "text/plain": [
       "[(1001, 'Jim', 'Halpert', 30, 'Male'),\n",
       " (1002, 'Pam', 'Beasley', 30, 'Female'),\n",
       " (1003, 'Dwight', 'Schrute', 29, 'Male'),\n",
       " (1004, 'Angela', 'Martin', 31, 'Female'),\n",
       " (1005, 'Toby', 'Flenderson', 32, 'Male'),\n",
       " (1006, 'Michael', 'Scott', 35, 'Male'),\n",
       " (1007, 'Meredith', 'Palmer', 32, 'Female'),\n",
       " (1008, 'Stanley', 'Hudson', 38, 'Male'),\n",
       " (1009, 'Kevin', 'Malone', 31, 'Male')]"
      ]
     },
     "metadata": {},
     "output_type": "display_data"
    }
   ],
   "source": [
    "## Fetch all rows of a query result, returning them as a list of tuples\n",
    "display(cursor.fetchall())"
   ]
  },
  {
   "cell_type": "markdown",
   "id": "131d7193",
   "metadata": {},
   "source": [
    "#### 1-3. rowcount"
   ]
  },
  {
   "cell_type": "code",
   "execution_count": 4,
   "id": "685cf0ac",
   "metadata": {},
   "outputs": [
    {
     "name": "stdout",
     "output_type": "stream",
     "text": [
      "9\n"
     ]
    }
   ],
   "source": [
    "## Specifies the number of rows that the last execute*() produced\n",
    "print(cursor.rowcount)"
   ]
  },
  {
   "cell_type": "markdown",
   "id": "b39f1d8a",
   "metadata": {},
   "source": [
    "#### 1-4. query"
   ]
  },
  {
   "cell_type": "code",
   "execution_count": 5,
   "id": "cc105d23",
   "metadata": {},
   "outputs": [
    {
     "name": "stdout",
     "output_type": "stream",
     "text": [
      "b'SELECT * FROM employee_demographics;'\n"
     ]
    }
   ],
   "source": [
    "## Attribute containing the body of the last query sent to the backend as bytes string\n",
    "print(cursor.query)"
   ]
  },
  {
   "cell_type": "markdown",
   "id": "8f5d9b12",
   "metadata": {},
   "source": [
    "#### 1-5. description"
   ]
  },
  {
   "cell_type": "code",
   "execution_count": 6,
   "id": "bcfe463f",
   "metadata": {},
   "outputs": [
    {
     "data": {
      "text/plain": [
       "(Column(name='employee_id', type_code=23),\n",
       " Column(name='first_name', type_code=1043),\n",
       " Column(name='last_name', type_code=1043),\n",
       " Column(name='age', type_code=23),\n",
       " Column(name='gender', type_code=1043))"
      ]
     },
     "metadata": {},
     "output_type": "display_data"
    }
   ],
   "source": [
    "## Returns a sequence of column instances\n",
    "display(cursor.description)"
   ]
  },
  {
   "cell_type": "code",
   "execution_count": 7,
   "id": "a36036fd",
   "metadata": {},
   "outputs": [
    {
     "name": "stdout",
     "output_type": "stream",
     "text": [
      "employee_id\n",
      "first_name\n",
      "last_name\n",
      "age\n",
      "gender\n"
     ]
    }
   ],
   "source": [
    "## Retrieve column names I\n",
    "for i in cursor.description: print(i[0])"
   ]
  },
  {
   "cell_type": "code",
   "execution_count": 8,
   "id": "55e05ce8",
   "metadata": {},
   "outputs": [
    {
     "data": {
      "text/plain": [
       "['employee_id', 'first_name', 'last_name', 'age', 'gender']"
      ]
     },
     "metadata": {},
     "output_type": "display_data"
    }
   ],
   "source": [
    "## Retrieve column names II\n",
    "display([i[0] for i in cursor.description])"
   ]
  }
 ],
 "metadata": {
  "kernelspec": {
   "display_name": "Python 3 (ipykernel)",
   "language": "python",
   "name": "python3"
  },
  "language_info": {
   "codemirror_mode": {
    "name": "ipython",
    "version": 3
   },
   "file_extension": ".py",
   "mimetype": "text/x-python",
   "name": "python",
   "nbconvert_exporter": "python",
   "pygments_lexer": "ipython3",
   "version": "3.9.6"
  }
 },
 "nbformat": 4,
 "nbformat_minor": 5
}
