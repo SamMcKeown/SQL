{
 "cells": [
  {
   "cell_type": "markdown",
   "id": "634ec3ec",
   "metadata": {},
   "source": [
    "## Basics of accessing & examining BigQuery datasets\n",
    "\n",
    "- 1. Create client object\n",
    "- 2. Retrieve dataset\n",
    "- 3. View tables in dataset\n",
    "- 4. Retrieve table from dataset\n",
    "- 5. View table schema\n",
    "- 6. View table rows\n",
    "- 7. View a specific column"
   ]
  },
  {
   "cell_type": "code",
   "execution_count": 1,
   "id": "630a792b",
   "metadata": {},
   "outputs": [],
   "source": [
    "from google.cloud import bigquery\n",
    "import os\n",
    "\n",
    "## Set Goolge Credentials - pathway to json file\n",
    "os.environ['GOOGLE_APPLICATION_CREDENTIALS']='####.json'"
   ]
  },
  {
   "cell_type": "markdown",
   "id": "4d688bb0",
   "metadata": {},
   "source": [
    "### 1. Create client object \n",
    "- Client object plays a central role in retrieving information from BigQuery datasets"
   ]
  },
  {
   "cell_type": "code",
   "execution_count": 2,
   "id": "365f1a8c",
   "metadata": {
    "scrolled": true
   },
   "outputs": [],
   "source": [
    "## Create Client object\n",
    "client = bigquery.Client()"
   ]
  },
  {
   "cell_type": "markdown",
   "id": "2b388575",
   "metadata": {},
   "source": [
    "### 2. Retrieve dataset\n",
    "\n",
    "- In BigQuery, each dataset is contained in a corresponding project \n",
    "- In this case, the hacker_news dataset is contained in the bigquery-public-data project \n",
    "- To access the dataset: \n",
    "    - a) construct a reference to the dataset using the `dataset()` method & \n",
    "    - b) use the `get_dataset()` method along with the reference created to retrieve the dataset"
   ]
  },
  {
   "cell_type": "code",
   "execution_count": 3,
   "id": "4f02232f",
   "metadata": {},
   "outputs": [
    {
     "name": "stdout",
     "output_type": "stream",
     "text": [
      "Type: <class 'google.cloud.bigquery.dataset.Dataset'>\n"
     ]
    }
   ],
   "source": [
    "## Create reference to the hacker_news dataset\n",
    "data_ref = client.dataset('hacker_news', project='bigquery-public-data')\n",
    "\n",
    "## API request - fetch the dataset\n",
    "dataset = client.get_dataset(data_ref)\n",
    "\n",
    "## Datatype\n",
    "print(f\"Type: {type(dataset)}\")"
   ]
  },
  {
   "cell_type": "markdown",
   "id": "73571535",
   "metadata": {},
   "source": [
    "### 3. View tables in dataset\n",
    "- Every dataset is a collection of tables - (spreadsheeet file with multiple tables)\n",
    "- Use the `list_tables()` method to list the tables in the dataset & `table_id` to view"
   ]
  },
  {
   "cell_type": "code",
   "execution_count": 4,
   "id": "b76d1005",
   "metadata": {},
   "outputs": [
    {
     "name": "stdout",
     "output_type": "stream",
     "text": [
      "comments\n",
      "full\n",
      "full_201510\n",
      "stories\n"
     ]
    }
   ],
   "source": [
    "## List all the tables in the hacker_news dataset\n",
    "tables = list(client.list_tables(dataset))\n",
    "\n",
    "## Print names of all tables in the dataset\n",
    "for table in tables: print(table.table_id)"
   ]
  },
  {
   "cell_type": "markdown",
   "id": "2a26bb34",
   "metadata": {},
   "source": [
    "### 4. Retrieve table from dataset\n",
    "- Similar to how the dataset was retrieved: \n",
    "    - a) construct a reference to the dataset using the `table()` method & \n",
    "    - b) use the `get_table()` method along with the reference created to retrieve the dataset"
   ]
  },
  {
   "cell_type": "code",
   "execution_count": 5,
   "id": "09bbb41d",
   "metadata": {},
   "outputs": [
    {
     "name": "stdout",
     "output_type": "stream",
     "text": [
      "Type: <class 'google.cloud.bigquery.table.Table'>\n"
     ]
    }
   ],
   "source": [
    "## Construct a reference to the table: full\n",
    "table_ref = data_ref.table('full')\n",
    "\n",
    "## API request - fetch the table\n",
    "table = client.get_table(table_ref)\n",
    "\n",
    "## Datatype\n",
    "print(f\"Type: {type(table)}\")"
   ]
  },
  {
   "cell_type": "markdown",
   "id": "516da588",
   "metadata": {},
   "source": [
    "### 5. View table schema\n",
    "\n",
    "- View the table's schema to effectively pull out the required data\n",
    "\n",
    "\n",
    "- Each SchemaField reveals:\n",
    "\n",
    "    - The name of column\n",
    "    - Its datatype\n",
    "    - The mode ('NULLABLE': a column allows NULL values, & is the default)\n",
    "    - A description of the data for that column"
   ]
  },
  {
   "cell_type": "code",
   "execution_count": 6,
   "id": "8d369203",
   "metadata": {},
   "outputs": [
    {
     "name": "stdout",
     "output_type": "stream",
     "text": [
      "SchemaField('title', 'STRING', 'NULLABLE', 'Story title', (), None)\n",
      "SchemaField('url', 'STRING', 'NULLABLE', 'Story url', (), None)\n",
      "SchemaField('text', 'STRING', 'NULLABLE', 'Story or comment text', (), None)\n",
      "SchemaField('dead', 'BOOLEAN', 'NULLABLE', 'Is dead?', (), None)\n",
      "SchemaField('by', 'STRING', 'NULLABLE', \"The username of the item's author.\", (), None)\n",
      "SchemaField('score', 'INTEGER', 'NULLABLE', 'Story score', (), None)\n",
      "SchemaField('time', 'INTEGER', 'NULLABLE', 'Unix time', (), None)\n",
      "SchemaField('timestamp', 'TIMESTAMP', 'NULLABLE', 'Timestamp for the unix time', (), None)\n",
      "SchemaField('type', 'STRING', 'NULLABLE', 'Type of details (comment, comment_ranking, poll, story, job, pollopt)', (), None)\n",
      "SchemaField('id', 'INTEGER', 'NULLABLE', \"The item's unique id.\", (), None)\n",
      "SchemaField('parent', 'INTEGER', 'NULLABLE', 'Parent comment ID', (), None)\n",
      "SchemaField('descendants', 'INTEGER', 'NULLABLE', 'Number of story or poll descendants', (), None)\n",
      "SchemaField('ranking', 'INTEGER', 'NULLABLE', 'Comment ranking', (), None)\n",
      "SchemaField('deleted', 'BOOLEAN', 'NULLABLE', 'Is deleted?', (), None)\n"
     ]
    }
   ],
   "source": [
    "## View column information\n",
    "for col in table.schema: print(col)"
   ]
  },
  {
   "cell_type": "markdown",
   "id": "a6060be1",
   "metadata": {},
   "source": [
    "### 6. View table rows\n",
    "- Use the `list_rows()` method to view lines of the table\n",
    "\n",
    "\n",
    "- This returns a `BigQuery RowIterator` object that can quickly be converted to a pandas DataFrame using the `to_dataframe()` method"
   ]
  },
  {
   "cell_type": "code",
   "execution_count": 7,
   "id": "e26d0a85",
   "metadata": {},
   "outputs": [
    {
     "data": {
      "text/html": [
       "<div>\n",
       "<style scoped>\n",
       "    .dataframe tbody tr th:only-of-type {\n",
       "        vertical-align: middle;\n",
       "    }\n",
       "\n",
       "    .dataframe tbody tr th {\n",
       "        vertical-align: top;\n",
       "    }\n",
       "\n",
       "    .dataframe thead th {\n",
       "        text-align: right;\n",
       "    }\n",
       "</style>\n",
       "<table border=\"1\" class=\"dataframe\">\n",
       "  <thead>\n",
       "    <tr style=\"text-align: right;\">\n",
       "      <th></th>\n",
       "      <th>title</th>\n",
       "      <th>url</th>\n",
       "      <th>text</th>\n",
       "      <th>dead</th>\n",
       "      <th>by</th>\n",
       "      <th>score</th>\n",
       "      <th>time</th>\n",
       "      <th>timestamp</th>\n",
       "      <th>type</th>\n",
       "      <th>id</th>\n",
       "      <th>parent</th>\n",
       "      <th>descendants</th>\n",
       "      <th>ranking</th>\n",
       "      <th>deleted</th>\n",
       "    </tr>\n",
       "  </thead>\n",
       "  <tbody>\n",
       "    <tr>\n",
       "      <th>0</th>\n",
       "      <td>None</td>\n",
       "      <td>None</td>\n",
       "      <td>&amp;gt; What about those murderous caravans from ...</td>\n",
       "      <td>&lt;NA&gt;</td>\n",
       "      <td>jevoten</td>\n",
       "      <td>&lt;NA&gt;</td>\n",
       "      <td>1644614470</td>\n",
       "      <td>2022-02-11 21:21:10+00:00</td>\n",
       "      <td>comment</td>\n",
       "      <td>30307128</td>\n",
       "      <td>30307030</td>\n",
       "      <td>&lt;NA&gt;</td>\n",
       "      <td>&lt;NA&gt;</td>\n",
       "      <td>&lt;NA&gt;</td>\n",
       "    </tr>\n",
       "    <tr>\n",
       "      <th>1</th>\n",
       "      <td>None</td>\n",
       "      <td>None</td>\n",
       "      <td>&amp;gt;This probably also means people have to be...</td>\n",
       "      <td>&lt;NA&gt;</td>\n",
       "      <td>dTal</td>\n",
       "      <td>&lt;NA&gt;</td>\n",
       "      <td>1644614472</td>\n",
       "      <td>2022-02-11 21:21:12+00:00</td>\n",
       "      <td>comment</td>\n",
       "      <td>30307129</td>\n",
       "      <td>30306385</td>\n",
       "      <td>&lt;NA&gt;</td>\n",
       "      <td>&lt;NA&gt;</td>\n",
       "      <td>&lt;NA&gt;</td>\n",
       "    </tr>\n",
       "    <tr>\n",
       "      <th>2</th>\n",
       "      <td>None</td>\n",
       "      <td>None</td>\n",
       "      <td>Interesting. What services to you provide to h...</td>\n",
       "      <td>&lt;NA&gt;</td>\n",
       "      <td>1123581321</td>\n",
       "      <td>&lt;NA&gt;</td>\n",
       "      <td>1644614400</td>\n",
       "      <td>2022-02-11 21:20:00+00:00</td>\n",
       "      <td>comment</td>\n",
       "      <td>30307121</td>\n",
       "      <td>30305959</td>\n",
       "      <td>&lt;NA&gt;</td>\n",
       "      <td>&lt;NA&gt;</td>\n",
       "      <td>&lt;NA&gt;</td>\n",
       "    </tr>\n",
       "  </tbody>\n",
       "</table>\n",
       "</div>"
      ],
      "text/plain": [
       "  title   url                                               text  dead  \\\n",
       "0  None  None  &gt; What about those murderous caravans from ...  <NA>   \n",
       "1  None  None  &gt;This probably also means people have to be...  <NA>   \n",
       "2  None  None  Interesting. What services to you provide to h...  <NA>   \n",
       "\n",
       "           by  score        time                 timestamp     type        id  \\\n",
       "0     jevoten   <NA>  1644614470 2022-02-11 21:21:10+00:00  comment  30307128   \n",
       "1        dTal   <NA>  1644614472 2022-02-11 21:21:12+00:00  comment  30307129   \n",
       "2  1123581321   <NA>  1644614400 2022-02-11 21:20:00+00:00  comment  30307121   \n",
       "\n",
       "     parent  descendants  ranking  deleted  \n",
       "0  30307030         <NA>     <NA>     <NA>  \n",
       "1  30306385         <NA>     <NA>     <NA>  \n",
       "2  30305959         <NA>     <NA>     <NA>  "
      ]
     },
     "execution_count": 7,
     "metadata": {},
     "output_type": "execute_result"
    }
   ],
   "source": [
    "## View the first 3 lines of the 'full' tale\n",
    "client.list_rows(table, max_results=3).to_dataframe()"
   ]
  },
  {
   "cell_type": "markdown",
   "id": "25e9938b",
   "metadata": {},
   "source": [
    "### 7. View a specific column\n",
    "\n",
    "- The `list_rows()` method can also retrieve information for a specific column"
   ]
  },
  {
   "cell_type": "code",
   "execution_count": 8,
   "id": "3ced3316",
   "metadata": {},
   "outputs": [
    {
     "data": {
      "text/html": [
       "<div>\n",
       "<style scoped>\n",
       "    .dataframe tbody tr th:only-of-type {\n",
       "        vertical-align: middle;\n",
       "    }\n",
       "\n",
       "    .dataframe tbody tr th {\n",
       "        vertical-align: top;\n",
       "    }\n",
       "\n",
       "    .dataframe thead th {\n",
       "        text-align: right;\n",
       "    }\n",
       "</style>\n",
       "<table border=\"1\" class=\"dataframe\">\n",
       "  <thead>\n",
       "    <tr style=\"text-align: right;\">\n",
       "      <th></th>\n",
       "      <th>text</th>\n",
       "    </tr>\n",
       "  </thead>\n",
       "  <tbody>\n",
       "    <tr>\n",
       "      <th>0</th>\n",
       "      <td>&amp;gt; What about those murderous caravans from ...</td>\n",
       "    </tr>\n",
       "    <tr>\n",
       "      <th>1</th>\n",
       "      <td>&amp;gt;This probably also means people have to be...</td>\n",
       "    </tr>\n",
       "    <tr>\n",
       "      <th>2</th>\n",
       "      <td>Interesting. What services to you provide to h...</td>\n",
       "    </tr>\n",
       "  </tbody>\n",
       "</table>\n",
       "</div>"
      ],
      "text/plain": [
       "                                                text\n",
       "0  &gt; What about those murderous caravans from ...\n",
       "1  &gt;This probably also means people have to be...\n",
       "2  Interesting. What services to you provide to h..."
      ]
     },
     "execution_count": 8,
     "metadata": {},
     "output_type": "execute_result"
    }
   ],
   "source": [
    "## View first 3 entires of text column\n",
    "client.list_rows(table, selected_fields=table.schema[2:3], max_results=3).to_dataframe()"
   ]
  }
 ],
 "metadata": {
  "kernelspec": {
   "display_name": "Python 3 (ipykernel)",
   "language": "python",
   "name": "python3"
  },
  "language_info": {
   "codemirror_mode": {
    "name": "ipython",
    "version": 3
   },
   "file_extension": ".py",
   "mimetype": "text/x-python",
   "name": "python",
   "nbconvert_exporter": "python",
   "pygments_lexer": "ipython3",
   "version": "3.9.6"
  }
 },
 "nbformat": 4,
 "nbformat_minor": 5
}
