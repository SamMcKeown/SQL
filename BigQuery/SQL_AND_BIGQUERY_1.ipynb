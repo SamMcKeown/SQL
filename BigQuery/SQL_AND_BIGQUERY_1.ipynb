{
 "cells": [
  {
   "cell_type": "markdown",
   "id": "539d4b85",
   "metadata": {},
   "source": [
    "### 1. Getting Started"
   ]
  },
  {
   "cell_type": "code",
   "execution_count": 1,
   "id": "4e342537",
   "metadata": {},
   "outputs": [],
   "source": [
    "import pandas as pd\n",
    "import numpy as np\n",
    "import matplotlib.pyplot as plt\n",
    "import seaborn as sns\n",
    "sns.set()\n",
    "\n",
    "from google.cloud import bigquery\n",
    "\n",
    "%config InlineBackend.figure_format = 'retina'\n",
    "%load_ext google.cloud.bigquery"
   ]
  },
  {
   "cell_type": "markdown",
   "id": "1e8ec35e",
   "metadata": {},
   "source": [
    "#### 1-1. Functions"
   ]
  },
  {
   "cell_type": "code",
   "execution_count": 2,
   "id": "9c41cf00",
   "metadata": {},
   "outputs": [],
   "source": [
    "def view_tables(dataset):\n",
    "    ## Lists the tables in the dataset\n",
    "    tables = list(client.list_tables(dataset))\n",
    "    for table in tables: print(table.table_id)\n",
    "\n",
    "def get_schema(table):\n",
    "    ## Retreives the table schema as a printed object\n",
    "    return(client.get_table(table).schema)\n",
    "\n",
    "def query_to_df(query):\n",
    "    ## View query results as a pandas dataframe\n",
    "    return(client.query(query).result().to_dataframe())\n",
    "\n",
    "def view_dataframe(table, n):\n",
    "    ## View the first n rows of table as a pandas dataframe\n",
    "    return(client.list_rows(table, max_results=n).to_dataframe())"
   ]
  },
  {
   "cell_type": "code",
   "execution_count": 3,
   "id": "5db388e1",
   "metadata": {},
   "outputs": [],
   "source": [
    "## File with authentication key info\n",
    "JSON_FILE_NAME='####.json'\n",
    "\n",
    "## Client\n",
    "client = bigquery.Client.from_service_account_json(JSON_FILE_NAME)"
   ]
  },
  {
   "cell_type": "code",
   "execution_count": 4,
   "id": "2270c3a6",
   "metadata": {},
   "outputs": [
    {
     "name": "stdout",
     "output_type": "stream",
     "text": [
      "global_air_quality\n"
     ]
    }
   ],
   "source": [
    "## View dataset tables \n",
    "dataset = 'bigquery-public-data.openaq'\n",
    "view_tables(dataset)"
   ]
  },
  {
   "cell_type": "markdown",
   "id": "b64b4815",
   "metadata": {},
   "source": [
    "### 2. View Table Schema"
   ]
  },
  {
   "cell_type": "code",
   "execution_count": 5,
   "id": "7e9fa90c",
   "metadata": {},
   "outputs": [
    {
     "data": {
      "text/plain": [
       "[SchemaField('location', 'STRING', 'NULLABLE', None, (), None),\n",
       " SchemaField('city', 'STRING', 'NULLABLE', None, (), None),\n",
       " SchemaField('country', 'STRING', 'NULLABLE', None, (), None),\n",
       " SchemaField('pollutant', 'STRING', 'NULLABLE', None, (), None),\n",
       " SchemaField('value', 'FLOAT', 'NULLABLE', None, (), None),\n",
       " SchemaField('timestamp', 'TIMESTAMP', 'NULLABLE', None, (), None),\n",
       " SchemaField('unit', 'STRING', 'NULLABLE', None, (), None),\n",
       " SchemaField('source_name', 'STRING', 'NULLABLE', None, (), None),\n",
       " SchemaField('latitude', 'FLOAT', 'NULLABLE', None, (), None),\n",
       " SchemaField('longitude', 'FLOAT', 'NULLABLE', None, (), None),\n",
       " SchemaField('averaged_over_in_hours', 'FLOAT', 'NULLABLE', None, (), None),\n",
       " SchemaField('location_geom', 'GEOGRAPHY', 'NULLABLE', None, (), None)]"
      ]
     },
     "execution_count": 5,
     "metadata": {},
     "output_type": "execute_result"
    }
   ],
   "source": [
    "## View table schema\n",
    "table = 'bigquery-public-data.openaq.global_air_quality'\n",
    "get_schema(table)"
   ]
  },
  {
   "cell_type": "code",
   "execution_count": 6,
   "id": "06e49edc",
   "metadata": {},
   "outputs": [
    {
     "name": "stdout",
     "output_type": "stream",
     "text": [
      "> Table: air_quality\n"
     ]
    },
    {
     "data": {
      "text/html": [
       "<div>\n",
       "<style scoped>\n",
       "    .dataframe tbody tr th:only-of-type {\n",
       "        vertical-align: middle;\n",
       "    }\n",
       "\n",
       "    .dataframe tbody tr th {\n",
       "        vertical-align: top;\n",
       "    }\n",
       "\n",
       "    .dataframe thead th {\n",
       "        text-align: right;\n",
       "    }\n",
       "</style>\n",
       "<table border=\"1\" class=\"dataframe\">\n",
       "  <thead>\n",
       "    <tr style=\"text-align: right;\">\n",
       "      <th></th>\n",
       "      <th>location</th>\n",
       "      <th>city</th>\n",
       "      <th>country</th>\n",
       "      <th>pollutant</th>\n",
       "      <th>value</th>\n",
       "      <th>timestamp</th>\n",
       "      <th>unit</th>\n",
       "      <th>source_name</th>\n",
       "      <th>latitude</th>\n",
       "      <th>longitude</th>\n",
       "      <th>averaged_over_in_hours</th>\n",
       "      <th>location_geom</th>\n",
       "    </tr>\n",
       "  </thead>\n",
       "  <tbody>\n",
       "    <tr>\n",
       "      <th>0</th>\n",
       "      <td>Płock, ul. Reja</td>\n",
       "      <td>Płock</td>\n",
       "      <td>PL</td>\n",
       "      <td>bc</td>\n",
       "      <td>0.30000</td>\n",
       "      <td>2022-05-09 18:00:00+00:00</td>\n",
       "      <td>µg/m³</td>\n",
       "      <td>GIOS</td>\n",
       "      <td>1.0</td>\n",
       "      <td>52.550938</td>\n",
       "      <td>19.709791</td>\n",
       "      <td>POINT(52.550938 1)</td>\n",
       "    </tr>\n",
       "    <tr>\n",
       "      <th>1</th>\n",
       "      <td>Legnica, al. Rzeczypospolitej</td>\n",
       "      <td>Legnica</td>\n",
       "      <td>PL</td>\n",
       "      <td>bc</td>\n",
       "      <td>0.67909</td>\n",
       "      <td>2022-05-16 05:00:00+00:00</td>\n",
       "      <td>µg/m³</td>\n",
       "      <td>GIOS</td>\n",
       "      <td>1.0</td>\n",
       "      <td>51.204503</td>\n",
       "      <td>16.180513</td>\n",
       "      <td>POINT(51.204503 1)</td>\n",
       "    </tr>\n",
       "    <tr>\n",
       "      <th>2</th>\n",
       "      <td>Włocławek, ul. Okrzei</td>\n",
       "      <td>Włocławek</td>\n",
       "      <td>PL</td>\n",
       "      <td>bc</td>\n",
       "      <td>2.64000</td>\n",
       "      <td>2022-04-29 06:00:00+00:00</td>\n",
       "      <td>µg/m³</td>\n",
       "      <td>GIOS</td>\n",
       "      <td>1.0</td>\n",
       "      <td>52.658467</td>\n",
       "      <td>19.059314</td>\n",
       "      <td>POINT(52.658467 1)</td>\n",
       "    </tr>\n",
       "  </tbody>\n",
       "</table>\n",
       "</div>"
      ],
      "text/plain": [
       "                        location       city country pollutant    value  \\\n",
       "0                Płock, ul. Reja      Płock      PL        bc  0.30000   \n",
       "1  Legnica, al. Rzeczypospolitej    Legnica      PL        bc  0.67909   \n",
       "2          Włocławek, ul. Okrzei  Włocławek      PL        bc  2.64000   \n",
       "\n",
       "                  timestamp   unit source_name  latitude  longitude  \\\n",
       "0 2022-05-09 18:00:00+00:00  µg/m³        GIOS       1.0  52.550938   \n",
       "1 2022-05-16 05:00:00+00:00  µg/m³        GIOS       1.0  51.204503   \n",
       "2 2022-04-29 06:00:00+00:00  µg/m³        GIOS       1.0  52.658467   \n",
       "\n",
       "   averaged_over_in_hours       location_geom  \n",
       "0               19.709791  POINT(52.550938 1)  \n",
       "1               16.180513  POINT(51.204503 1)  \n",
       "2               19.059314  POINT(52.658467 1)  "
      ]
     },
     "execution_count": 6,
     "metadata": {},
     "output_type": "execute_result"
    }
   ],
   "source": [
    "## View first n rows of table\n",
    "print(f\"> Table: {table[35:]}\")\n",
    "view_dataframe(table, 3)"
   ]
  },
  {
   "cell_type": "markdown",
   "id": "640a16ea",
   "metadata": {},
   "source": [
    "### 3. SELECT, FROM & WHERE\n",
    "\n",
    "#### 3-1. Query: Select items from the city column where the country column is equal to 'US'"
   ]
  },
  {
   "cell_type": "code",
   "execution_count": 7,
   "id": "afceacf9",
   "metadata": {},
   "outputs": [
    {
     "data": {
      "text/html": [
       "<div>\n",
       "<style scoped>\n",
       "    .dataframe tbody tr th:only-of-type {\n",
       "        vertical-align: middle;\n",
       "    }\n",
       "\n",
       "    .dataframe tbody tr th {\n",
       "        vertical-align: top;\n",
       "    }\n",
       "\n",
       "    .dataframe thead th {\n",
       "        text-align: right;\n",
       "    }\n",
       "</style>\n",
       "<table border=\"1\" class=\"dataframe\">\n",
       "  <thead>\n",
       "    <tr style=\"text-align: right;\">\n",
       "      <th></th>\n",
       "      <th>city</th>\n",
       "    </tr>\n",
       "  </thead>\n",
       "  <tbody>\n",
       "    <tr>\n",
       "      <th>1050437</th>\n",
       "      <td>Salt Lake City</td>\n",
       "    </tr>\n",
       "    <tr>\n",
       "      <th>404109</th>\n",
       "      <td>Vallejo-Fairfield</td>\n",
       "    </tr>\n",
       "    <tr>\n",
       "      <th>941883</th>\n",
       "      <td>Columbus</td>\n",
       "    </tr>\n",
       "  </tbody>\n",
       "</table>\n",
       "</div>"
      ],
      "text/plain": [
       "                      city\n",
       "1050437     Salt Lake City\n",
       "404109   Vallejo-Fairfield\n",
       "941883            Columbus"
      ]
     },
     "execution_count": 7,
     "metadata": {},
     "output_type": "execute_result"
    }
   ],
   "source": [
    "query = (\"\"\"\n",
    "        SELECT city\n",
    "        FROM `bigquery-public-data.openaq.global_air_quality`\n",
    "        WHERE country = 'US'\n",
    "        \"\"\")\n",
    "\n",
    "## Query result as pandas DataFrame\n",
    "query_to_df(query).sample(3)"
   ]
  },
  {
   "cell_type": "code",
   "execution_count": 8,
   "id": "8548ba57",
   "metadata": {},
   "outputs": [
    {
     "data": {
      "text/plain": [
       "Phoenix-Mesa-Scottsdale             39414\n",
       "Los Angeles-Long Beach-Santa Ana    27479\n",
       "Riverside-San Bernardino-Ontario    26887\n",
       "Name: city, dtype: int64"
      ]
     },
     "execution_count": 8,
     "metadata": {},
     "output_type": "execute_result"
    }
   ],
   "source": [
    "query_to_df(query)['city'].value_counts().head(3)"
   ]
  },
  {
   "cell_type": "code",
   "execution_count": 9,
   "id": "7958c079",
   "metadata": {},
   "outputs": [
    {
     "name": "stdout",
     "output_type": "stream",
     "text": [
      "Number of cities: 826\n"
     ]
    }
   ],
   "source": [
    "print(F\"Number of cities: {query_to_df(query)['city'].nunique()}\")"
   ]
  },
  {
   "cell_type": "markdown",
   "id": "f2c58c57",
   "metadata": {},
   "source": [
    "#### 3-2. Query:"
   ]
  },
  {
   "cell_type": "code",
   "execution_count": 10,
   "id": "052f25a0",
   "metadata": {},
   "outputs": [
    {
     "data": {
      "text/html": [
       "<div>\n",
       "<style scoped>\n",
       "    .dataframe tbody tr th:only-of-type {\n",
       "        vertical-align: middle;\n",
       "    }\n",
       "\n",
       "    .dataframe tbody tr th {\n",
       "        vertical-align: top;\n",
       "    }\n",
       "\n",
       "    .dataframe thead th {\n",
       "        text-align: right;\n",
       "    }\n",
       "</style>\n",
       "<table border=\"1\" class=\"dataframe\">\n",
       "  <thead>\n",
       "    <tr style=\"text-align: right;\">\n",
       "      <th></th>\n",
       "      <th>city</th>\n",
       "      <th>country</th>\n",
       "    </tr>\n",
       "  </thead>\n",
       "  <tbody>\n",
       "    <tr>\n",
       "      <th>327327</th>\n",
       "      <td>UINTAH</td>\n",
       "      <td>US</td>\n",
       "    </tr>\n",
       "    <tr>\n",
       "      <th>703535</th>\n",
       "      <td>Charleston-North Charleston</td>\n",
       "      <td>US</td>\n",
       "    </tr>\n",
       "    <tr>\n",
       "      <th>206375</th>\n",
       "      <td>Athens</td>\n",
       "      <td>US</td>\n",
       "    </tr>\n",
       "  </tbody>\n",
       "</table>\n",
       "</div>"
      ],
      "text/plain": [
       "                               city country\n",
       "327327                       UINTAH      US\n",
       "703535  Charleston-North Charleston      US\n",
       "206375                       Athens      US"
      ]
     },
     "execution_count": 10,
     "metadata": {},
     "output_type": "execute_result"
    }
   ],
   "source": [
    "query = (\"\"\"\n",
    "        SELECT city, country\n",
    "        FROM `bigquery-public-data.openaq.global_air_quality`\n",
    "        WHERE country = 'US'\n",
    "        \"\"\")\n",
    "\n",
    "## Query result as pandas DataFrame\n",
    "query_to_df(query).sample(3)"
   ]
  },
  {
   "cell_type": "markdown",
   "id": "8342ee28",
   "metadata": {},
   "source": [
    "#### 3-3. Query:"
   ]
  },
  {
   "cell_type": "code",
   "execution_count": 11,
   "id": "d06584f7",
   "metadata": {},
   "outputs": [
    {
     "data": {
      "text/html": [
       "<div>\n",
       "<style scoped>\n",
       "    .dataframe tbody tr th:only-of-type {\n",
       "        vertical-align: middle;\n",
       "    }\n",
       "\n",
       "    .dataframe tbody tr th {\n",
       "        vertical-align: top;\n",
       "    }\n",
       "\n",
       "    .dataframe thead th {\n",
       "        text-align: right;\n",
       "    }\n",
       "</style>\n",
       "<table border=\"1\" class=\"dataframe\">\n",
       "  <thead>\n",
       "    <tr style=\"text-align: right;\">\n",
       "      <th></th>\n",
       "      <th>location</th>\n",
       "      <th>city</th>\n",
       "      <th>country</th>\n",
       "      <th>pollutant</th>\n",
       "      <th>value</th>\n",
       "      <th>timestamp</th>\n",
       "      <th>unit</th>\n",
       "      <th>source_name</th>\n",
       "      <th>latitude</th>\n",
       "      <th>longitude</th>\n",
       "      <th>averaged_over_in_hours</th>\n",
       "      <th>location_geom</th>\n",
       "    </tr>\n",
       "  </thead>\n",
       "  <tbody>\n",
       "    <tr>\n",
       "      <th>0</th>\n",
       "      <td>Seattle-10th &amp; Welle</td>\n",
       "      <td>Seattle-Tacoma-Bellevue</td>\n",
       "      <td>US</td>\n",
       "      <td>bc</td>\n",
       "      <td>0.60</td>\n",
       "      <td>2022-04-09 03:00:00+00:00</td>\n",
       "      <td>µg/m³</td>\n",
       "      <td>AirNow</td>\n",
       "      <td>1.0</td>\n",
       "      <td>47.597222</td>\n",
       "      <td>-122.319722</td>\n",
       "      <td>POINT(47.597222 1)</td>\n",
       "    </tr>\n",
       "    <tr>\n",
       "      <th>1</th>\n",
       "      <td>E Providence</td>\n",
       "      <td>Providence-New Bedford-Fall River</td>\n",
       "      <td>US</td>\n",
       "      <td>bc</td>\n",
       "      <td>0.18</td>\n",
       "      <td>2022-05-07 01:00:00+00:00</td>\n",
       "      <td>µg/m³</td>\n",
       "      <td>AirNow</td>\n",
       "      <td>1.0</td>\n",
       "      <td>41.840302</td>\n",
       "      <td>-71.361702</td>\n",
       "      <td>POINT(41.840302 1)</td>\n",
       "    </tr>\n",
       "    <tr>\n",
       "      <th>2</th>\n",
       "      <td>Portland Humboldt Sc</td>\n",
       "      <td>Portland-Vancouver-Beaverton</td>\n",
       "      <td>US</td>\n",
       "      <td>bc</td>\n",
       "      <td>0.06</td>\n",
       "      <td>2022-05-07 12:00:00+00:00</td>\n",
       "      <td>µg/m³</td>\n",
       "      <td>AirNow</td>\n",
       "      <td>1.0</td>\n",
       "      <td>45.558081</td>\n",
       "      <td>-122.670985</td>\n",
       "      <td>POINT(45.558081 1)</td>\n",
       "    </tr>\n",
       "  </tbody>\n",
       "</table>\n",
       "</div>"
      ],
      "text/plain": [
       "               location                               city country pollutant  \\\n",
       "0  Seattle-10th & Welle            Seattle-Tacoma-Bellevue      US        bc   \n",
       "1          E Providence  Providence-New Bedford-Fall River      US        bc   \n",
       "2  Portland Humboldt Sc       Portland-Vancouver-Beaverton      US        bc   \n",
       "\n",
       "   value                 timestamp   unit source_name  latitude  longitude  \\\n",
       "0   0.60 2022-04-09 03:00:00+00:00  µg/m³      AirNow       1.0  47.597222   \n",
       "1   0.18 2022-05-07 01:00:00+00:00  µg/m³      AirNow       1.0  41.840302   \n",
       "2   0.06 2022-05-07 12:00:00+00:00  µg/m³      AirNow       1.0  45.558081   \n",
       "\n",
       "   averaged_over_in_hours       location_geom  \n",
       "0             -122.319722  POINT(47.597222 1)  \n",
       "1              -71.361702  POINT(41.840302 1)  \n",
       "2             -122.670985  POINT(45.558081 1)  "
      ]
     },
     "execution_count": 11,
     "metadata": {},
     "output_type": "execute_result"
    }
   ],
   "source": [
    "query = (\"\"\"\n",
    "        SELECT *\n",
    "        FROM `bigquery-public-data.openaq.global_air_quality`\n",
    "        WHERE country = 'US'\n",
    "        \"\"\")\n",
    "\n",
    "## Query result as pandas DataFrame\n",
    "query_to_df(query).head(3)"
   ]
  },
  {
   "cell_type": "markdown",
   "id": "24eede97",
   "metadata": {},
   "source": [
    "#### 3-4. Query:"
   ]
  },
  {
   "cell_type": "code",
   "execution_count": 12,
   "id": "0443ea4e",
   "metadata": {},
   "outputs": [
    {
     "data": {
      "text/html": [
       "<div>\n",
       "<style scoped>\n",
       "    .dataframe tbody tr th:only-of-type {\n",
       "        vertical-align: middle;\n",
       "    }\n",
       "\n",
       "    .dataframe tbody tr th {\n",
       "        vertical-align: top;\n",
       "    }\n",
       "\n",
       "    .dataframe thead th {\n",
       "        text-align: right;\n",
       "    }\n",
       "</style>\n",
       "<table border=\"1\" class=\"dataframe\">\n",
       "  <thead>\n",
       "    <tr style=\"text-align: right;\">\n",
       "      <th></th>\n",
       "      <th>score</th>\n",
       "      <th>title</th>\n",
       "    </tr>\n",
       "  </thead>\n",
       "  <tbody>\n",
       "    <tr>\n",
       "      <th>0</th>\n",
       "      <td>1</td>\n",
       "      <td>Work at Socialcam to become the master of iOS ...</td>\n",
       "    </tr>\n",
       "    <tr>\n",
       "      <th>1</th>\n",
       "      <td>1</td>\n",
       "      <td>Go in Production? Streak (YC S11) hiring Go en...</td>\n",
       "    </tr>\n",
       "    <tr>\n",
       "      <th>2</th>\n",
       "      <td>1</td>\n",
       "      <td>Interviewstreet (YC S11) looking for marketing...</td>\n",
       "    </tr>\n",
       "  </tbody>\n",
       "</table>\n",
       "</div>"
      ],
      "text/plain": [
       "   score                                              title\n",
       "0      1  Work at Socialcam to become the master of iOS ...\n",
       "1      1  Go in Production? Streak (YC S11) hiring Go en...\n",
       "2      1  Interviewstreet (YC S11) looking for marketing..."
      ]
     },
     "execution_count": 12,
     "metadata": {},
     "output_type": "execute_result"
    }
   ],
   "source": [
    "query = (\"\"\"\n",
    "        SELECT score, title\n",
    "        FROM `bigquery-public-data.hacker_news.full`\n",
    "        WHERE type = \"job\" \n",
    "        LIMIT 3\n",
    "        \"\"\")\n",
    "\n",
    "## Query result as pandas DataFrame\n",
    "query_to_df(query)"
   ]
  }
 ],
 "metadata": {
  "kernelspec": {
   "display_name": "Python 3 (ipykernel)",
   "language": "python",
   "name": "python3"
  },
  "language_info": {
   "codemirror_mode": {
    "name": "ipython",
    "version": 3
   },
   "file_extension": ".py",
   "mimetype": "text/x-python",
   "name": "python",
   "nbconvert_exporter": "python",
   "pygments_lexer": "ipython3",
   "version": "3.9.6"
  }
 },
 "nbformat": 4,
 "nbformat_minor": 5
}
