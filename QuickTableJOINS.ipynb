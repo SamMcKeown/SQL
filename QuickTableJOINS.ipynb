{
 "cells": [
  {
   "cell_type": "code",
   "execution_count": 1,
   "id": "0dec2e89",
   "metadata": {},
   "outputs": [],
   "source": [
    "%load_ext sql\n",
    "%sql sqlite://"
   ]
  },
  {
   "cell_type": "markdown",
   "id": "15a21156",
   "metadata": {},
   "source": [
    "### 1. Create & Fill Tables"
   ]
  },
  {
   "cell_type": "code",
   "execution_count": 2,
   "id": "3acc2257",
   "metadata": {},
   "outputs": [
    {
     "name": "stdout",
     "output_type": "stream",
     "text": [
      " * sqlite://\n",
      "Done.\n",
      "Done.\n",
      "5 rows affected.\n",
      "5 rows affected.\n"
     ]
    },
    {
     "data": {
      "text/plain": [
       "[]"
      ]
     },
     "execution_count": 2,
     "metadata": {},
     "output_type": "execute_result"
    }
   ],
   "source": [
    "%%sql\n",
    "\n",
    "CREATE TABLE employees(\n",
    "    employee_id INTEGER,\n",
    "    employee_name TEXT,\n",
    "    department_id TEXT\n",
    ");\n",
    "\n",
    "CREATE TABLE departments(\n",
    "    id INTEGER,\n",
    "    department_name TEXT\n",
    ");\n",
    "\n",
    "INSERT INTO \n",
    "    employees (employee_id, employee_name, department_id)\n",
    "VALUES \n",
    "    (1, \"Homer Simpson\", 4),\n",
    "    (2, \"Ned Flanders\", 1),\n",
    "    (3, \"Barney Gumble\", 5),\n",
    "    (4, \"Clancy Wiggum\", 3),\n",
    "    (5, \"Moe Syzslak\", NULL);\n",
    "\n",
    "INSERT INTO \n",
    "    departments (id, department_name)\n",
    "VALUES \n",
    "    (1, \"Sales\"),\n",
    "    (2, \"Engineering\"),\n",
    "    (3, \"Human Resources\"),\n",
    "    (4, \"Customer Service\"),\n",
    "    (5, \"Research & Development\");"
   ]
  },
  {
   "cell_type": "markdown",
   "id": "fbc70c58",
   "metadata": {},
   "source": [
    "### 1-1.Table:  __`employees`__\n",
    "\n",
    "- employee_id\n",
    "- emplyee_name\n",
    "- department_id"
   ]
  },
  {
   "cell_type": "code",
   "execution_count": 3,
   "id": "bf4a39ff",
   "metadata": {},
   "outputs": [
    {
     "name": "stdout",
     "output_type": "stream",
     "text": [
      " * sqlite://\n",
      "Done.\n"
     ]
    },
    {
     "data": {
      "text/html": [
       "<table>\n",
       "    <tr>\n",
       "        <th>employee_id</th>\n",
       "        <th>employee_name</th>\n",
       "        <th>department_id</th>\n",
       "    </tr>\n",
       "    <tr>\n",
       "        <td>1</td>\n",
       "        <td>Homer Simpson</td>\n",
       "        <td>4</td>\n",
       "    </tr>\n",
       "    <tr>\n",
       "        <td>2</td>\n",
       "        <td>Ned Flanders</td>\n",
       "        <td>1</td>\n",
       "    </tr>\n",
       "    <tr>\n",
       "        <td>3</td>\n",
       "        <td>Barney Gumble</td>\n",
       "        <td>5</td>\n",
       "    </tr>\n",
       "    <tr>\n",
       "        <td>4</td>\n",
       "        <td>Clancy Wiggum</td>\n",
       "        <td>3</td>\n",
       "    </tr>\n",
       "    <tr>\n",
       "        <td>5</td>\n",
       "        <td>Moe Syzslak</td>\n",
       "        <td>None</td>\n",
       "    </tr>\n",
       "</table>"
      ],
      "text/plain": [
       "[(1, 'Homer Simpson', '4'),\n",
       " (2, 'Ned Flanders', '1'),\n",
       " (3, 'Barney Gumble', '5'),\n",
       " (4, 'Clancy Wiggum', '3'),\n",
       " (5, 'Moe Syzslak', None)]"
      ]
     },
     "execution_count": 3,
     "metadata": {},
     "output_type": "execute_result"
    }
   ],
   "source": [
    "%%sql \n",
    "select * \n",
    "from employees"
   ]
  },
  {
   "cell_type": "markdown",
   "id": "825ed928",
   "metadata": {},
   "source": [
    "### 1-2. Table: __`departments`__\n",
    "\n",
    "- id\n",
    "- department_name"
   ]
  },
  {
   "cell_type": "code",
   "execution_count": 4,
   "id": "452b31a5",
   "metadata": {},
   "outputs": [
    {
     "name": "stdout",
     "output_type": "stream",
     "text": [
      " * sqlite://\n",
      "Done.\n"
     ]
    },
    {
     "data": {
      "text/html": [
       "<table>\n",
       "    <tr>\n",
       "        <th>id</th>\n",
       "        <th>department_name</th>\n",
       "    </tr>\n",
       "    <tr>\n",
       "        <td>1</td>\n",
       "        <td>Sales</td>\n",
       "    </tr>\n",
       "    <tr>\n",
       "        <td>2</td>\n",
       "        <td>Engineering</td>\n",
       "    </tr>\n",
       "    <tr>\n",
       "        <td>3</td>\n",
       "        <td>Human Resources</td>\n",
       "    </tr>\n",
       "    <tr>\n",
       "        <td>4</td>\n",
       "        <td>Customer Service</td>\n",
       "    </tr>\n",
       "    <tr>\n",
       "        <td>5</td>\n",
       "        <td>Research &amp; Development</td>\n",
       "    </tr>\n",
       "</table>"
      ],
      "text/plain": [
       "[(1, 'Sales'),\n",
       " (2, 'Engineering'),\n",
       " (3, 'Human Resources'),\n",
       " (4, 'Customer Service'),\n",
       " (5, 'Research & Development')]"
      ]
     },
     "execution_count": 4,
     "metadata": {},
     "output_type": "execute_result"
    }
   ],
   "source": [
    "%%sql \n",
    "select * \n",
    "from departments"
   ]
  },
  {
   "cell_type": "markdown",
   "id": "71745fb4",
   "metadata": {},
   "source": [
    "### ***"
   ]
  },
  {
   "cell_type": "markdown",
   "id": "b486e4ee",
   "metadata": {},
   "source": [
    "### 2. `JOIN - (INNER JOIN)`\n",
    "\n",
    "- The SQL JOIN command is used to combine data from two tables in SQL \n",
    "- The JOIN clause is often used when tables have at least one column of data in common\n",
    "\n",
    "#### Query: Write a query to JOIN the tables created"
   ]
  },
  {
   "cell_type": "code",
   "execution_count": 5,
   "id": "f06698d6",
   "metadata": {},
   "outputs": [
    {
     "name": "stdout",
     "output_type": "stream",
     "text": [
      " * sqlite://\n",
      "Done.\n"
     ]
    },
    {
     "data": {
      "text/html": [
       "<table>\n",
       "    <tr>\n",
       "        <th>employee_id</th>\n",
       "        <th>employee_name</th>\n",
       "        <th>department_id</th>\n",
       "        <th>id</th>\n",
       "        <th>department_name</th>\n",
       "    </tr>\n",
       "    <tr>\n",
       "        <td>2</td>\n",
       "        <td>Ned Flanders</td>\n",
       "        <td>1</td>\n",
       "        <td>1</td>\n",
       "        <td>Sales</td>\n",
       "    </tr>\n",
       "    <tr>\n",
       "        <td>4</td>\n",
       "        <td>Clancy Wiggum</td>\n",
       "        <td>3</td>\n",
       "        <td>3</td>\n",
       "        <td>Human Resources</td>\n",
       "    </tr>\n",
       "    <tr>\n",
       "        <td>1</td>\n",
       "        <td>Homer Simpson</td>\n",
       "        <td>4</td>\n",
       "        <td>4</td>\n",
       "        <td>Customer Service</td>\n",
       "    </tr>\n",
       "    <tr>\n",
       "        <td>3</td>\n",
       "        <td>Barney Gumble</td>\n",
       "        <td>5</td>\n",
       "        <td>5</td>\n",
       "        <td>Research &amp; Development</td>\n",
       "    </tr>\n",
       "</table>"
      ],
      "text/plain": [
       "[(2, 'Ned Flanders', '1', 1, 'Sales'),\n",
       " (4, 'Clancy Wiggum', '3', 3, 'Human Resources'),\n",
       " (1, 'Homer Simpson', '4', 4, 'Customer Service'),\n",
       " (3, 'Barney Gumble', '5', 5, 'Research & Development')]"
      ]
     },
     "execution_count": 5,
     "metadata": {},
     "output_type": "execute_result"
    }
   ],
   "source": [
    "%%sql\n",
    "\n",
    "SELECT *\n",
    "    FROM employees\n",
    "    JOIN departments ON employees.department_id = departments.id\n",
    "ORDER BY department_id;"
   ]
  },
  {
   "cell_type": "markdown",
   "id": "7dfb6e22",
   "metadata": {},
   "source": [
    "### 2-2. `LEFT JOIN `\n",
    "\n",
    "- A LEFT JOIN returns all the rows that are in the first (left) table listed. Matching rows from the right table are also returned"
   ]
  },
  {
   "cell_type": "code",
   "execution_count": 6,
   "id": "e9d1e9a1",
   "metadata": {},
   "outputs": [
    {
     "name": "stdout",
     "output_type": "stream",
     "text": [
      " * sqlite://\n",
      "Done.\n"
     ]
    },
    {
     "data": {
      "text/html": [
       "<table>\n",
       "    <tr>\n",
       "        <th>employee_id</th>\n",
       "        <th>employee_name</th>\n",
       "        <th>department_id</th>\n",
       "        <th>id</th>\n",
       "        <th>department_name</th>\n",
       "    </tr>\n",
       "    <tr>\n",
       "        <td>1</td>\n",
       "        <td>Homer Simpson</td>\n",
       "        <td>4</td>\n",
       "        <td>4</td>\n",
       "        <td>Customer Service</td>\n",
       "    </tr>\n",
       "    <tr>\n",
       "        <td>2</td>\n",
       "        <td>Ned Flanders</td>\n",
       "        <td>1</td>\n",
       "        <td>1</td>\n",
       "        <td>Sales</td>\n",
       "    </tr>\n",
       "    <tr>\n",
       "        <td>3</td>\n",
       "        <td>Barney Gumble</td>\n",
       "        <td>5</td>\n",
       "        <td>5</td>\n",
       "        <td>Research &amp; Development</td>\n",
       "    </tr>\n",
       "    <tr>\n",
       "        <td>4</td>\n",
       "        <td>Clancy Wiggum</td>\n",
       "        <td>3</td>\n",
       "        <td>3</td>\n",
       "        <td>Human Resources</td>\n",
       "    </tr>\n",
       "    <tr>\n",
       "        <td>5</td>\n",
       "        <td>Moe Syzslak</td>\n",
       "        <td>None</td>\n",
       "        <td>None</td>\n",
       "        <td>None</td>\n",
       "    </tr>\n",
       "</table>"
      ],
      "text/plain": [
       "[(1, 'Homer Simpson', '4', 4, 'Customer Service'),\n",
       " (2, 'Ned Flanders', '1', 1, 'Sales'),\n",
       " (3, 'Barney Gumble', '5', 5, 'Research & Development'),\n",
       " (4, 'Clancy Wiggum', '3', 3, 'Human Resources'),\n",
       " (5, 'Moe Syzslak', None, None, None)]"
      ]
     },
     "execution_count": 6,
     "metadata": {},
     "output_type": "execute_result"
    }
   ],
   "source": [
    "%%sql \n",
    "\n",
    "SELECT * \n",
    "    FROM employees AS emp\n",
    "    LEFT JOIN departments AS dep ON emp.department_id = dep.id;"
   ]
  },
  {
   "cell_type": "markdown",
   "id": "1c2b18cf",
   "metadata": {},
   "source": [
    "### 2-3. `RIGHT JOIN`\n",
    "\n",
    "- __NOTE__: EMULATED by doing a left join & switching the tables"
   ]
  },
  {
   "cell_type": "code",
   "execution_count": 7,
   "id": "27693b65",
   "metadata": {},
   "outputs": [
    {
     "name": "stdout",
     "output_type": "stream",
     "text": [
      " * sqlite://\n",
      "Done.\n"
     ]
    },
    {
     "data": {
      "text/html": [
       "<table>\n",
       "    <tr>\n",
       "        <th>id</th>\n",
       "        <th>department_name</th>\n",
       "        <th>employee_id</th>\n",
       "        <th>employee_name</th>\n",
       "        <th>department_id</th>\n",
       "    </tr>\n",
       "    <tr>\n",
       "        <td>1</td>\n",
       "        <td>Sales</td>\n",
       "        <td>2</td>\n",
       "        <td>Ned Flanders</td>\n",
       "        <td>1</td>\n",
       "    </tr>\n",
       "    <tr>\n",
       "        <td>2</td>\n",
       "        <td>Engineering</td>\n",
       "        <td>None</td>\n",
       "        <td>None</td>\n",
       "        <td>None</td>\n",
       "    </tr>\n",
       "    <tr>\n",
       "        <td>3</td>\n",
       "        <td>Human Resources</td>\n",
       "        <td>4</td>\n",
       "        <td>Clancy Wiggum</td>\n",
       "        <td>3</td>\n",
       "    </tr>\n",
       "    <tr>\n",
       "        <td>4</td>\n",
       "        <td>Customer Service</td>\n",
       "        <td>1</td>\n",
       "        <td>Homer Simpson</td>\n",
       "        <td>4</td>\n",
       "    </tr>\n",
       "    <tr>\n",
       "        <td>5</td>\n",
       "        <td>Research &amp; Development</td>\n",
       "        <td>3</td>\n",
       "        <td>Barney Gumble</td>\n",
       "        <td>5</td>\n",
       "    </tr>\n",
       "</table>"
      ],
      "text/plain": [
       "[(1, 'Sales', 2, 'Ned Flanders', '1'),\n",
       " (2, 'Engineering', None, None, None),\n",
       " (3, 'Human Resources', 4, 'Clancy Wiggum', '3'),\n",
       " (4, 'Customer Service', 1, 'Homer Simpson', '4'),\n",
       " (5, 'Research & Development', 3, 'Barney Gumble', '5')]"
      ]
     },
     "execution_count": 7,
     "metadata": {},
     "output_type": "execute_result"
    }
   ],
   "source": [
    "%%sql \n",
    "\n",
    "SELECT * \n",
    "    FROM departments AS dep\n",
    "    LEFT JOIN employees AS emp ON dep.id = emp.department_id;"
   ]
  },
  {
   "cell_type": "markdown",
   "id": "463ffd2c",
   "metadata": {},
   "source": [
    "### ***"
   ]
  },
  {
   "cell_type": "markdown",
   "id": "8eaba051",
   "metadata": {},
   "source": [
    "### 3. Create & Fill Tables II"
   ]
  },
  {
   "cell_type": "code",
   "execution_count": 8,
   "id": "ecc26713",
   "metadata": {},
   "outputs": [
    {
     "name": "stdout",
     "output_type": "stream",
     "text": [
      " * sqlite://\n",
      "Done.\n",
      "Done.\n",
      "3 rows affected.\n",
      "3 rows affected.\n"
     ]
    },
    {
     "data": {
      "text/plain": [
       "[]"
      ]
     },
     "execution_count": 8,
     "metadata": {},
     "output_type": "execute_result"
    }
   ],
   "source": [
    "%%sql\n",
    "\n",
    "CREATE TABLE Orders(\n",
    "    OrderID INTEGER,\n",
    "    CustomerID INTEGER,\n",
    "    OrderDate DATE\n",
    ");\n",
    "\n",
    "CREATE TABLE Customers(\n",
    "    CustomerID INTEGER,\n",
    "    CustomerName TEXT,\n",
    "    ContactName TEXT,\n",
    "    Country TEXT\n",
    ");\n",
    "\n",
    "INSERT INTO \n",
    "    Orders (OrderID, CustomerID, OrderDate)\n",
    "VALUES \n",
    "    (10308, 2, '1996-09-18'),\n",
    "    (10309, 37, '1996-09-19'),\n",
    "    (10310, 77, '1996-09-20');\n",
    "    \n",
    "INSERT INTO \n",
    "    Customers (CustomerID, CustomerName, ContactName, Country)\n",
    "VALUES \n",
    "    (1, 'Alfreds Futterkiste', 'Maria Anders', 'Germany'),\n",
    "    (2, 'Ana Trujillo Emparedados y helados', 'Ana Trujillo', 'Mexico'),\n",
    "    (3, 'Antonio Moreno Taquería', 'Antonio Moreno', 'Mexico');"
   ]
  },
  {
   "cell_type": "markdown",
   "id": "ce9ef69b",
   "metadata": {},
   "source": [
    "### 3-1. Table: __`Orders`__"
   ]
  },
  {
   "cell_type": "code",
   "execution_count": 9,
   "id": "f3f0e54b",
   "metadata": {},
   "outputs": [
    {
     "name": "stdout",
     "output_type": "stream",
     "text": [
      " * sqlite://\n",
      "Done.\n"
     ]
    },
    {
     "data": {
      "text/html": [
       "<table>\n",
       "    <tr>\n",
       "        <th>OrderID</th>\n",
       "        <th>CustomerID</th>\n",
       "        <th>OrderDate</th>\n",
       "    </tr>\n",
       "    <tr>\n",
       "        <td>10308</td>\n",
       "        <td>2</td>\n",
       "        <td>1996-09-18</td>\n",
       "    </tr>\n",
       "    <tr>\n",
       "        <td>10309</td>\n",
       "        <td>37</td>\n",
       "        <td>1996-09-19</td>\n",
       "    </tr>\n",
       "    <tr>\n",
       "        <td>10310</td>\n",
       "        <td>77</td>\n",
       "        <td>1996-09-20</td>\n",
       "    </tr>\n",
       "</table>"
      ],
      "text/plain": [
       "[(10308, 2, '1996-09-18'),\n",
       " (10309, 37, '1996-09-19'),\n",
       " (10310, 77, '1996-09-20')]"
      ]
     },
     "execution_count": 9,
     "metadata": {},
     "output_type": "execute_result"
    }
   ],
   "source": [
    "%%sql\n",
    "select * \n",
    "from Orders"
   ]
  },
  {
   "cell_type": "markdown",
   "id": "9f957ee1",
   "metadata": {},
   "source": [
    "### 3-2. Table: __`Customers`__"
   ]
  },
  {
   "cell_type": "code",
   "execution_count": 10,
   "id": "a701b37b",
   "metadata": {},
   "outputs": [
    {
     "name": "stdout",
     "output_type": "stream",
     "text": [
      " * sqlite://\n",
      "Done.\n"
     ]
    },
    {
     "data": {
      "text/html": [
       "<table>\n",
       "    <tr>\n",
       "        <th>CustomerID</th>\n",
       "        <th>CustomerName</th>\n",
       "        <th>ContactName</th>\n",
       "        <th>Country</th>\n",
       "    </tr>\n",
       "    <tr>\n",
       "        <td>1</td>\n",
       "        <td>Alfreds Futterkiste</td>\n",
       "        <td>Maria Anders</td>\n",
       "        <td>Germany</td>\n",
       "    </tr>\n",
       "    <tr>\n",
       "        <td>2</td>\n",
       "        <td>Ana Trujillo Emparedados y helados</td>\n",
       "        <td>Ana Trujillo</td>\n",
       "        <td>Mexico</td>\n",
       "    </tr>\n",
       "    <tr>\n",
       "        <td>3</td>\n",
       "        <td>Antonio Moreno Taquería</td>\n",
       "        <td>Antonio Moreno</td>\n",
       "        <td>Mexico</td>\n",
       "    </tr>\n",
       "</table>"
      ],
      "text/plain": [
       "[(1, 'Alfreds Futterkiste', 'Maria Anders', 'Germany'),\n",
       " (2, 'Ana Trujillo Emparedados y helados', 'Ana Trujillo', 'Mexico'),\n",
       " (3, 'Antonio Moreno Taquería', 'Antonio Moreno', 'Mexico')]"
      ]
     },
     "execution_count": 10,
     "metadata": {},
     "output_type": "execute_result"
    }
   ],
   "source": [
    "%%sql\n",
    "select * \n",
    "from Customers"
   ]
  },
  {
   "cell_type": "markdown",
   "id": "187f2cf8",
   "metadata": {},
   "source": [
    "### 4. `INNER JOIN II`\n",
    "#### INNER JOIN: Selects ONLY the records that have `MATCHING VALUES` in both tables"
   ]
  },
  {
   "cell_type": "code",
   "execution_count": 11,
   "id": "94256342",
   "metadata": {},
   "outputs": [
    {
     "name": "stdout",
     "output_type": "stream",
     "text": [
      " * sqlite://\n",
      "Done.\n"
     ]
    },
    {
     "data": {
      "text/html": [
       "<table>\n",
       "    <tr>\n",
       "        <th>OrderID</th>\n",
       "        <th>CustomerName</th>\n",
       "        <th>OrderDate</th>\n",
       "    </tr>\n",
       "    <tr>\n",
       "        <td>10308</td>\n",
       "        <td>Ana Trujillo Emparedados y helados</td>\n",
       "        <td>1996-09-18</td>\n",
       "    </tr>\n",
       "</table>"
      ],
      "text/plain": [
       "[(10308, 'Ana Trujillo Emparedados y helados', '1996-09-18')]"
      ]
     },
     "execution_count": 11,
     "metadata": {},
     "output_type": "execute_result"
    }
   ],
   "source": [
    "%%sql\n",
    "\n",
    "SELECT Orders.OrderID, \n",
    "       Customers.CustomerName, \n",
    "       Orders.OrderDate\n",
    "FROM Orders JOIN Customers ON Orders.CustomerID = Customers.CustomerID;"
   ]
  },
  {
   "cell_type": "markdown",
   "id": "b1598e49",
   "metadata": {},
   "source": [
    "### 4-1. `LEFT JOIN`\n",
    "#### LEFT (OUTER) JOIN: Returns all records from the left table & the MATCHED records from the right table"
   ]
  },
  {
   "cell_type": "code",
   "execution_count": 12,
   "id": "50d1952d",
   "metadata": {},
   "outputs": [
    {
     "name": "stdout",
     "output_type": "stream",
     "text": [
      " * sqlite://\n",
      "Done.\n"
     ]
    },
    {
     "data": {
      "text/html": [
       "<table>\n",
       "    <tr>\n",
       "        <th>OrderID</th>\n",
       "        <th>CustomerName</th>\n",
       "        <th>OrderDate</th>\n",
       "    </tr>\n",
       "    <tr>\n",
       "        <td>10308</td>\n",
       "        <td>Ana Trujillo Emparedados y helados</td>\n",
       "        <td>1996-09-18</td>\n",
       "    </tr>\n",
       "    <tr>\n",
       "        <td>10309</td>\n",
       "        <td>None</td>\n",
       "        <td>1996-09-19</td>\n",
       "    </tr>\n",
       "    <tr>\n",
       "        <td>10310</td>\n",
       "        <td>None</td>\n",
       "        <td>1996-09-20</td>\n",
       "    </tr>\n",
       "</table>"
      ],
      "text/plain": [
       "[(10308, 'Ana Trujillo Emparedados y helados', '1996-09-18'),\n",
       " (10309, None, '1996-09-19'),\n",
       " (10310, None, '1996-09-20')]"
      ]
     },
     "execution_count": 12,
     "metadata": {},
     "output_type": "execute_result"
    }
   ],
   "source": [
    "%%sql\n",
    "\n",
    "SELECT Orders.OrderID, \n",
    "       Customers.CustomerName, \n",
    "       Orders.OrderDate\n",
    "FROM Orders LEFT JOIN Customers ON Orders.CustomerID = Customers.CustomerID;"
   ]
  },
  {
   "cell_type": "markdown",
   "id": "3d76f151",
   "metadata": {},
   "source": [
    "### 4-2. `RIGHT JOIN`\n",
    "#### RIGHT (OUTER) JOIN: Returns all records from the right table & the MATCHED records from the left table\n",
    "- __NOTE__: EMULATED by doing a left join & switching the tables"
   ]
  },
  {
   "cell_type": "code",
   "execution_count": 13,
   "id": "1401da83",
   "metadata": {},
   "outputs": [
    {
     "name": "stdout",
     "output_type": "stream",
     "text": [
      " * sqlite://\n",
      "Done.\n"
     ]
    },
    {
     "data": {
      "text/html": [
       "<table>\n",
       "    <tr>\n",
       "        <th>OrderID</th>\n",
       "        <th>CustomerName</th>\n",
       "        <th>OrderDate</th>\n",
       "    </tr>\n",
       "    <tr>\n",
       "        <td>None</td>\n",
       "        <td>Alfreds Futterkiste</td>\n",
       "        <td>None</td>\n",
       "    </tr>\n",
       "    <tr>\n",
       "        <td>10308</td>\n",
       "        <td>Ana Trujillo Emparedados y helados</td>\n",
       "        <td>1996-09-18</td>\n",
       "    </tr>\n",
       "    <tr>\n",
       "        <td>None</td>\n",
       "        <td>Antonio Moreno Taquería</td>\n",
       "        <td>None</td>\n",
       "    </tr>\n",
       "</table>"
      ],
      "text/plain": [
       "[(None, 'Alfreds Futterkiste', None),\n",
       " (10308, 'Ana Trujillo Emparedados y helados', '1996-09-18'),\n",
       " (None, 'Antonio Moreno Taquería', None)]"
      ]
     },
     "execution_count": 13,
     "metadata": {},
     "output_type": "execute_result"
    }
   ],
   "source": [
    "%%sql\n",
    "\n",
    "SELECT Orders.OrderID, \n",
    "       Customers.CustomerName, \n",
    "       Orders.OrderDate\n",
    "FROM Customers LEFT JOIN Orders ON Customers.CustomerID =  Orders.CustomerID;"
   ]
  },
  {
   "cell_type": "markdown",
   "id": "8c6ea582",
   "metadata": {},
   "source": [
    "### 4-3. `FULL JOIN`\n",
    "\n",
    "#### FULL OUTER JOIN: Returns all records when there is a match in left or right table records\n",
    "- **NOTE**: EMULATED: the result of LEFT & RIGHT (again swapped LEFT JOIN) JOIN results"
   ]
  },
  {
   "cell_type": "code",
   "execution_count": 14,
   "id": "bf44c113",
   "metadata": {},
   "outputs": [
    {
     "name": "stdout",
     "output_type": "stream",
     "text": [
      " * sqlite://\n",
      "Done.\n"
     ]
    },
    {
     "data": {
      "text/html": [
       "<table>\n",
       "    <tr>\n",
       "        <th>OrderID</th>\n",
       "        <th>CustomerName</th>\n",
       "        <th>OrderDate</th>\n",
       "    </tr>\n",
       "    <tr>\n",
       "        <td>None</td>\n",
       "        <td>Alfreds Futterkiste</td>\n",
       "        <td>None</td>\n",
       "    </tr>\n",
       "    <tr>\n",
       "        <td>None</td>\n",
       "        <td>Antonio Moreno Taquería</td>\n",
       "        <td>None</td>\n",
       "    </tr>\n",
       "    <tr>\n",
       "        <td>10308</td>\n",
       "        <td>Ana Trujillo Emparedados y helados</td>\n",
       "        <td>1996-09-18</td>\n",
       "    </tr>\n",
       "    <tr>\n",
       "        <td>10309</td>\n",
       "        <td>None</td>\n",
       "        <td>1996-09-19</td>\n",
       "    </tr>\n",
       "    <tr>\n",
       "        <td>10310</td>\n",
       "        <td>None</td>\n",
       "        <td>1996-09-20</td>\n",
       "    </tr>\n",
       "</table>"
      ],
      "text/plain": [
       "[(None, 'Alfreds Futterkiste', None),\n",
       " (None, 'Antonio Moreno Taquería', None),\n",
       " (10308, 'Ana Trujillo Emparedados y helados', '1996-09-18'),\n",
       " (10309, None, '1996-09-19'),\n",
       " (10310, None, '1996-09-20')]"
      ]
     },
     "execution_count": 14,
     "metadata": {},
     "output_type": "execute_result"
    }
   ],
   "source": [
    "%%sql\n",
    "\n",
    "SELECT Orders.OrderID, \n",
    "       Customers.CustomerName, \n",
    "       Orders.OrderDate\n",
    "FROM Orders LEFT JOIN Customers ON Orders.CustomerID = Customers.CustomerID\n",
    "UNION\n",
    "SELECT Orders.OrderID, \n",
    "       Customers.CustomerName, \n",
    "       Orders.OrderDate\n",
    "FROM Customers LEFT JOIN Orders ON Customers.CustomerID =  Orders.CustomerID;"
   ]
  },
  {
   "cell_type": "markdown",
   "id": "d6ff4a06",
   "metadata": {},
   "source": [
    "### 5. Create & Fill Tables III"
   ]
  },
  {
   "cell_type": "code",
   "execution_count": 15,
   "id": "54d584b0",
   "metadata": {},
   "outputs": [
    {
     "name": "stdout",
     "output_type": "stream",
     "text": [
      " * sqlite://\n",
      "Done.\n",
      "Done.\n",
      "3 rows affected.\n",
      "3 rows affected.\n"
     ]
    },
    {
     "data": {
      "text/plain": [
       "[]"
      ]
     },
     "execution_count": 15,
     "metadata": {},
     "output_type": "execute_result"
    }
   ],
   "source": [
    "%%sql\n",
    "\n",
    "CREATE TABLE Customers2(\n",
    "    CustomerID INTEGER,\n",
    "    CustomerName TEXT,\n",
    "    ContactName TEXT,\n",
    "    Address TEXT,\n",
    "    City TEXT,\n",
    "    PostCode INTEGER,\n",
    "    Country TEXT\n",
    ");\n",
    "\n",
    "CREATE TABLE Suppliers(\n",
    "    SupplierID INTEGER,\n",
    "    SupplierName TEXT,\n",
    "    ContactName TEXT,\n",
    "    Address TEXT,\n",
    "    City TEXT,\n",
    "    PostCode TEXT,\n",
    "    Country TEXT\n",
    ");\n",
    "\n",
    "INSERT INTO \n",
    "    Customers2 (CustomerID, CustomerName, ContactName, Address, City, PostCode, Country)\n",
    "VALUES \n",
    "    (1, 'Alfreds Futterkiste', 'Maria Anders', 'Obere Str. 57', 'Berlin', 12209, 'Germany'),\n",
    "    (2, 'Ana Trujillo Emparedados y helados', 'Ana Trujillo', 'Avda. de la Constitución 2222', 'Mexico City', \n",
    "     05021, 'Mexico'),\n",
    "    (3, 'Antonio Moreno Taquería', 'Antonio Moreno', 'Mataderos 2312', 'Mexico City', 05023, 'Mexico');\n",
    "    \n",
    "INSERT INTO \n",
    "    Suppliers (SupplierID, SupplierName, ContactName, Address, City, PostCode, Country)\n",
    "VALUES \n",
    "    (1, 'Exotic Liquid', 'Charlotte Cooper', '49 Gilbert St.', 'London', 'EC1 4SD', 'UK'),\n",
    "    (2, 'New Orleans Cajun Delights', 'Shelley Burke', 'P.O. Box 78934', 'New Orleans', '70117', 'USA'),\n",
    "    (3, \"Grandma Kelly's Homestead\", 'Regina Murphy', '707 Oxford Rd.', 'Ann Arbor', '48104', 'USA');"
   ]
  },
  {
   "cell_type": "markdown",
   "id": "a494f59c",
   "metadata": {},
   "source": [
    "### 5-1. Table: __`Customers2`__"
   ]
  },
  {
   "cell_type": "code",
   "execution_count": 16,
   "id": "3bab7fe0",
   "metadata": {},
   "outputs": [
    {
     "name": "stdout",
     "output_type": "stream",
     "text": [
      " * sqlite://\n",
      "Done.\n"
     ]
    },
    {
     "data": {
      "text/html": [
       "<table>\n",
       "    <tr>\n",
       "        <th>CustomerID</th>\n",
       "        <th>CustomerName</th>\n",
       "        <th>ContactName</th>\n",
       "        <th>Address</th>\n",
       "        <th>City</th>\n",
       "        <th>PostCode</th>\n",
       "        <th>Country</th>\n",
       "    </tr>\n",
       "    <tr>\n",
       "        <td>1</td>\n",
       "        <td>Alfreds Futterkiste</td>\n",
       "        <td>Maria Anders</td>\n",
       "        <td>Obere Str. 57</td>\n",
       "        <td>Berlin</td>\n",
       "        <td>12209</td>\n",
       "        <td>Germany</td>\n",
       "    </tr>\n",
       "    <tr>\n",
       "        <td>2</td>\n",
       "        <td>Ana Trujillo Emparedados y helados</td>\n",
       "        <td>Ana Trujillo</td>\n",
       "        <td>Avda. de la Constitución 2222</td>\n",
       "        <td>Mexico City</td>\n",
       "        <td>5021</td>\n",
       "        <td>Mexico</td>\n",
       "    </tr>\n",
       "    <tr>\n",
       "        <td>3</td>\n",
       "        <td>Antonio Moreno Taquería</td>\n",
       "        <td>Antonio Moreno</td>\n",
       "        <td>Mataderos 2312</td>\n",
       "        <td>Mexico City</td>\n",
       "        <td>5023</td>\n",
       "        <td>Mexico</td>\n",
       "    </tr>\n",
       "</table>"
      ],
      "text/plain": [
       "[(1, 'Alfreds Futterkiste', 'Maria Anders', 'Obere Str. 57', 'Berlin', 12209, 'Germany'),\n",
       " (2, 'Ana Trujillo Emparedados y helados', 'Ana Trujillo', 'Avda. de la Constitución 2222', 'Mexico City', 5021, 'Mexico'),\n",
       " (3, 'Antonio Moreno Taquería', 'Antonio Moreno', 'Mataderos 2312', 'Mexico City', 5023, 'Mexico')]"
      ]
     },
     "execution_count": 16,
     "metadata": {},
     "output_type": "execute_result"
    }
   ],
   "source": [
    "%%sql\n",
    "select * from Customers2"
   ]
  },
  {
   "cell_type": "markdown",
   "id": "39453b3a",
   "metadata": {},
   "source": [
    "### 5-2. Table: __`Suppliers`__"
   ]
  },
  {
   "cell_type": "code",
   "execution_count": 17,
   "id": "0692ab3b",
   "metadata": {},
   "outputs": [
    {
     "name": "stdout",
     "output_type": "stream",
     "text": [
      " * sqlite://\n",
      "Done.\n"
     ]
    },
    {
     "data": {
      "text/html": [
       "<table>\n",
       "    <tr>\n",
       "        <th>SupplierID</th>\n",
       "        <th>SupplierName</th>\n",
       "        <th>ContactName</th>\n",
       "        <th>Address</th>\n",
       "        <th>City</th>\n",
       "        <th>PostCode</th>\n",
       "        <th>Country</th>\n",
       "    </tr>\n",
       "    <tr>\n",
       "        <td>1</td>\n",
       "        <td>Exotic Liquid</td>\n",
       "        <td>Charlotte Cooper</td>\n",
       "        <td>49 Gilbert St.</td>\n",
       "        <td>London</td>\n",
       "        <td>EC1 4SD</td>\n",
       "        <td>UK</td>\n",
       "    </tr>\n",
       "    <tr>\n",
       "        <td>2</td>\n",
       "        <td>New Orleans Cajun Delights</td>\n",
       "        <td>Shelley Burke</td>\n",
       "        <td>P.O. Box 78934</td>\n",
       "        <td>New Orleans</td>\n",
       "        <td>70117</td>\n",
       "        <td>USA</td>\n",
       "    </tr>\n",
       "    <tr>\n",
       "        <td>3</td>\n",
       "        <td>Grandma Kelly&#x27;s Homestead</td>\n",
       "        <td>Regina Murphy</td>\n",
       "        <td>707 Oxford Rd.</td>\n",
       "        <td>Ann Arbor</td>\n",
       "        <td>48104</td>\n",
       "        <td>USA</td>\n",
       "    </tr>\n",
       "</table>"
      ],
      "text/plain": [
       "[(1, 'Exotic Liquid', 'Charlotte Cooper', '49 Gilbert St.', 'London', 'EC1 4SD', 'UK'),\n",
       " (2, 'New Orleans Cajun Delights', 'Shelley Burke', 'P.O. Box 78934', 'New Orleans', '70117', 'USA'),\n",
       " (3, \"Grandma Kelly's Homestead\", 'Regina Murphy', '707 Oxford Rd.', 'Ann Arbor', '48104', 'USA')]"
      ]
     },
     "execution_count": 17,
     "metadata": {},
     "output_type": "execute_result"
    }
   ],
   "source": [
    "%%sql\n",
    "select * from Suppliers"
   ]
  },
  {
   "cell_type": "markdown",
   "id": "b4455e7d",
   "metadata": {},
   "source": [
    "### 6. `SQL UNION`\n",
    "#### UNION: Combines the result-set of two or more SELECT statements.\n",
    "\n",
    "- Every __SELECT__ statement within __UNION__ must have the same number of columns\n",
    "- The columns must also have similar data types\n",
    "- The columns in every __SELECT__ statement must also be in the same order"
   ]
  },
  {
   "cell_type": "code",
   "execution_count": 18,
   "id": "937731d8",
   "metadata": {},
   "outputs": [
    {
     "name": "stdout",
     "output_type": "stream",
     "text": [
      " * sqlite://\n",
      "Done.\n"
     ]
    },
    {
     "data": {
      "text/html": [
       "<table>\n",
       "    <tr>\n",
       "        <th>City</th>\n",
       "    </tr>\n",
       "    <tr>\n",
       "        <td>Ann Arbor</td>\n",
       "    </tr>\n",
       "    <tr>\n",
       "        <td>Berlin</td>\n",
       "    </tr>\n",
       "    <tr>\n",
       "        <td>London</td>\n",
       "    </tr>\n",
       "    <tr>\n",
       "        <td>Mexico City</td>\n",
       "    </tr>\n",
       "    <tr>\n",
       "        <td>New Orleans</td>\n",
       "    </tr>\n",
       "</table>"
      ],
      "text/plain": [
       "[('Ann Arbor',), ('Berlin',), ('London',), ('Mexico City',), ('New Orleans',)]"
      ]
     },
     "execution_count": 18,
     "metadata": {},
     "output_type": "execute_result"
    }
   ],
   "source": [
    "%%sql\n",
    "SELECT City FROM Customers2\n",
    "UNION\n",
    "SELECT City FROM Suppliers\n",
    "ORDER BY City;"
   ]
  },
  {
   "cell_type": "markdown",
   "id": "9fd758cf",
   "metadata": {},
   "source": [
    "### 6.1 Use `UNION ALL` to also select duplicate values"
   ]
  },
  {
   "cell_type": "code",
   "execution_count": 19,
   "id": "e4e3d1a1",
   "metadata": {},
   "outputs": [
    {
     "name": "stdout",
     "output_type": "stream",
     "text": [
      " * sqlite://\n",
      "Done.\n"
     ]
    },
    {
     "data": {
      "text/html": [
       "<table>\n",
       "    <tr>\n",
       "        <th>City</th>\n",
       "    </tr>\n",
       "    <tr>\n",
       "        <td>Ann Arbor</td>\n",
       "    </tr>\n",
       "    <tr>\n",
       "        <td>Berlin</td>\n",
       "    </tr>\n",
       "    <tr>\n",
       "        <td>London</td>\n",
       "    </tr>\n",
       "    <tr>\n",
       "        <td>Mexico City</td>\n",
       "    </tr>\n",
       "    <tr>\n",
       "        <td>Mexico City</td>\n",
       "    </tr>\n",
       "    <tr>\n",
       "        <td>New Orleans</td>\n",
       "    </tr>\n",
       "</table>"
      ],
      "text/plain": [
       "[('Ann Arbor',),\n",
       " ('Berlin',),\n",
       " ('London',),\n",
       " ('Mexico City',),\n",
       " ('Mexico City',),\n",
       " ('New Orleans',)]"
      ]
     },
     "execution_count": 19,
     "metadata": {},
     "output_type": "execute_result"
    }
   ],
   "source": [
    "%%sql\n",
    "SELECT City FROM Customers2\n",
    "UNION ALL\n",
    "SELECT City FROM Suppliers\n",
    "ORDER BY City;"
   ]
  },
  {
   "cell_type": "markdown",
   "id": "17642eda",
   "metadata": {},
   "source": [
    "### 6.3 Using UNION with WHERE"
   ]
  },
  {
   "cell_type": "code",
   "execution_count": 20,
   "id": "6b276616",
   "metadata": {},
   "outputs": [
    {
     "name": "stdout",
     "output_type": "stream",
     "text": [
      " * sqlite://\n",
      "Done.\n"
     ]
    },
    {
     "data": {
      "text/html": [
       "<table>\n",
       "    <tr>\n",
       "        <th>City</th>\n",
       "        <th>Country</th>\n",
       "    </tr>\n",
       "    <tr>\n",
       "        <td>Berlin</td>\n",
       "        <td>Germany</td>\n",
       "    </tr>\n",
       "</table>"
      ],
      "text/plain": [
       "[('Berlin', 'Germany')]"
      ]
     },
     "execution_count": 20,
     "metadata": {},
     "output_type": "execute_result"
    }
   ],
   "source": [
    "%%sql\n",
    "SELECT City, Country FROM Customers2\n",
    "WHERE Country='Germany'\n",
    "UNION\n",
    "SELECT City, Country FROM Suppliers\n",
    "WHERE Country='Germany'\n",
    "ORDER BY City;"
   ]
  },
  {
   "cell_type": "markdown",
   "id": "6455339c",
   "metadata": {},
   "source": [
    "### 6.4 Create a temporary column named \"Type\", that list whether the contact person is a Customer or a Supplier"
   ]
  },
  {
   "cell_type": "code",
   "execution_count": 21,
   "id": "a077e56c",
   "metadata": {},
   "outputs": [
    {
     "name": "stdout",
     "output_type": "stream",
     "text": [
      " * sqlite://\n",
      "Done.\n"
     ]
    },
    {
     "data": {
      "text/html": [
       "<table>\n",
       "    <tr>\n",
       "        <th>Type</th>\n",
       "        <th>ContactName</th>\n",
       "        <th>City</th>\n",
       "        <th>Country</th>\n",
       "    </tr>\n",
       "    <tr>\n",
       "        <td>Customer</td>\n",
       "        <td>Ana Trujillo</td>\n",
       "        <td>Mexico City</td>\n",
       "        <td>Mexico</td>\n",
       "    </tr>\n",
       "    <tr>\n",
       "        <td>Customer</td>\n",
       "        <td>Antonio Moreno</td>\n",
       "        <td>Mexico City</td>\n",
       "        <td>Mexico</td>\n",
       "    </tr>\n",
       "    <tr>\n",
       "        <td>Customer</td>\n",
       "        <td>Maria Anders</td>\n",
       "        <td>Berlin</td>\n",
       "        <td>Germany</td>\n",
       "    </tr>\n",
       "    <tr>\n",
       "        <td>Supplier</td>\n",
       "        <td>Charlotte Cooper</td>\n",
       "        <td>London</td>\n",
       "        <td>UK</td>\n",
       "    </tr>\n",
       "    <tr>\n",
       "        <td>Supplier</td>\n",
       "        <td>Regina Murphy</td>\n",
       "        <td>Ann Arbor</td>\n",
       "        <td>USA</td>\n",
       "    </tr>\n",
       "    <tr>\n",
       "        <td>Supplier</td>\n",
       "        <td>Shelley Burke</td>\n",
       "        <td>New Orleans</td>\n",
       "        <td>USA</td>\n",
       "    </tr>\n",
       "</table>"
      ],
      "text/plain": [
       "[('Customer', 'Ana Trujillo', 'Mexico City', 'Mexico'),\n",
       " ('Customer', 'Antonio Moreno', 'Mexico City', 'Mexico'),\n",
       " ('Customer', 'Maria Anders', 'Berlin', 'Germany'),\n",
       " ('Supplier', 'Charlotte Cooper', 'London', 'UK'),\n",
       " ('Supplier', 'Regina Murphy', 'Ann Arbor', 'USA'),\n",
       " ('Supplier', 'Shelley Burke', 'New Orleans', 'USA')]"
      ]
     },
     "execution_count": 21,
     "metadata": {},
     "output_type": "execute_result"
    }
   ],
   "source": [
    "%%sql\n",
    "SELECT 'Customer' AS Type, \n",
    "        ContactName, \n",
    "        City, \n",
    "        Country\n",
    "FROM Customers2\n",
    "UNION\n",
    "SELECT 'Supplier', \n",
    "       ContactName, \n",
    "       City, \n",
    "       Country\n",
    "FROM Suppliers; "
   ]
  }
 ],
 "metadata": {
  "kernelspec": {
   "display_name": "Python 3 (ipykernel)",
   "language": "python",
   "name": "python3"
  },
  "language_info": {
   "codemirror_mode": {
    "name": "ipython",
    "version": 3
   },
   "file_extension": ".py",
   "mimetype": "text/x-python",
   "name": "python",
   "nbconvert_exporter": "python",
   "pygments_lexer": "ipython3",
   "version": "3.9.6"
  }
 },
 "nbformat": 4,
 "nbformat_minor": 5
}
